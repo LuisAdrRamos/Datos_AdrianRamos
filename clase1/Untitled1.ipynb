{
 "cells": [
  {
   "cell_type": "code",
   "execution_count": 2,
   "id": "cf1f626e-efd9-49bf-84a0-931971ebe679",
   "metadata": {},
   "outputs": [],
   "source": [
    "import numpy as np"
   ]
  },
  {
   "cell_type": "code",
   "execution_count": 12,
   "id": "6e0b098d-f0ad-4e42-ab80-539d774d9bc1",
   "metadata": {},
   "outputs": [
    {
     "data": {
      "text/plain": [
       "array([[0.62567847, 0.46326994, 0.00726676],\n",
       "       [0.8155142 , 0.38556281, 0.61161552],\n",
       "       [0.68113516, 0.88638694, 0.77916693]])"
      ]
     },
     "execution_count": 12,
     "metadata": {},
     "output_type": "execute_result"
    }
   ],
   "source": [
    "m=np.random.rand(3,3)\n",
    "m"
   ]
  },
  {
   "cell_type": "code",
   "execution_count": 8,
   "id": "9b438843-8d16-40e0-8062-80d2b3a7afcc",
   "metadata": {},
   "outputs": [],
   "source": [
    "m1=np.random.rand(100,100)"
   ]
  },
  {
   "cell_type": "code",
   "execution_count": 10,
   "id": "8bb9dfc2-3fba-44a1-8d07-d7f66dacf234",
   "metadata": {},
   "outputs": [
    {
     "data": {
      "text/plain": [
       "array([[0.05031633, 0.23784078, 0.12767115, ..., 0.26215532, 0.09126548,\n",
       "        0.17369096],\n",
       "       [0.12398106, 0.45968798, 0.98669258, ..., 0.97491639, 0.63091391,\n",
       "        0.16993197],\n",
       "       [0.7278733 , 0.68804636, 0.56080094, ..., 0.59835261, 0.48580101,\n",
       "        0.22637435],\n",
       "       ...,\n",
       "       [0.99850247, 0.9743812 , 0.55403014, ..., 0.25891422, 0.9625849 ,\n",
       "        0.72170513],\n",
       "       [0.27697171, 0.10721158, 0.33033357, ..., 0.42028431, 0.77957718,\n",
       "        0.57385975],\n",
       "       [0.63305588, 0.73953717, 0.55455449, ..., 0.59126352, 0.9461325 ,\n",
       "        0.09924105]])"
      ]
     },
     "execution_count": 10,
     "metadata": {},
     "output_type": "execute_result"
    }
   ],
   "source": [
    "m1"
   ]
  },
  {
   "cell_type": "code",
   "execution_count": 18,
   "id": "c4ec2d89-397c-4eb7-b949-246a36b72848",
   "metadata": {},
   "outputs": [
    {
     "data": {
      "text/plain": [
       "np.float64(0.13847452466895793)"
      ]
     },
     "execution_count": 18,
     "metadata": {},
     "output_type": "execute_result"
    }
   ],
   "source": [
    "m1[50][50]"
   ]
  },
  {
   "cell_type": "code",
   "execution_count": 21,
   "id": "25ee7f55-013b-4898-b29f-6a020239b8cf",
   "metadata": {},
   "outputs": [
    {
     "data": {
      "text/plain": [
       "array([10, 11, 12, 13, 14, 15, 16, 17, 18, 19, 20, 21, 22, 23, 24, 25, 26,\n",
       "       27, 28, 29, 30, 31, 32, 33, 34, 35, 36, 37, 38, 39, 40, 41, 42, 43,\n",
       "       44, 45, 46, 47, 48, 49])"
      ]
     },
     "execution_count": 21,
     "metadata": {},
     "output_type": "execute_result"
    }
   ],
   "source": [
    "m2=np.arange(10,50)\n",
    "m2"
   ]
  },
  {
   "cell_type": "code",
   "execution_count": 24,
   "id": "1ab20618-cee0-4240-812d-f1b16ad75512",
   "metadata": {},
   "outputs": [
    {
     "data": {
      "text/plain": [
       "array([49, 48, 47, 46, 45, 44, 43, 42, 41, 40, 39, 38, 37, 36, 35, 34, 33,\n",
       "       32, 31, 30, 29, 28, 27, 26, 25, 24, 23, 22, 21, 20, 19, 18, 17, 16,\n",
       "       15, 14, 13, 12, 11, 10])"
      ]
     },
     "execution_count": 24,
     "metadata": {},
     "output_type": "execute_result"
    }
   ],
   "source": [
    "m2[::-1]"
   ]
  },
  {
   "cell_type": "code",
   "execution_count": 27,
   "id": "87b8fabf-f2b9-42bd-9118-a429fdc2fb73",
   "metadata": {},
   "outputs": [
    {
     "data": {
      "text/plain": [
       "array([[0, 1, 2],\n",
       "       [3, 4, 5],\n",
       "       [6, 7, 8]])"
      ]
     },
     "execution_count": 27,
     "metadata": {},
     "output_type": "execute_result"
    }
   ],
   "source": [
    "m3=np.arange(0,9).reshape(3,3)\n",
    "m3"
   ]
  },
  {
   "cell_type": "code",
   "execution_count": null,
   "id": "cb3e8485-f583-47eb-b261-38604f076744",
   "metadata": {},
   "outputs": [],
   "source": []
  },
  {
   "cell_type": "code",
   "execution_count": 45,
   "id": "3e7389ee-b89f-4244-aa52-27b0acc6c4be",
   "metadata": {
    "scrolled": true
   },
   "outputs": [
    {
     "data": {
      "text/plain": [
       "array([[1., 1., 1., 1., 1., 1., 1., 1., 1., 1.],\n",
       "       [1., 0., 0., 0., 0., 0., 0., 0., 0., 1.],\n",
       "       [1., 0., 0., 0., 0., 0., 0., 0., 0., 1.],\n",
       "       [1., 0., 0., 0., 0., 0., 0., 0., 0., 1.],\n",
       "       [1., 0., 0., 0., 0., 0., 0., 0., 0., 1.],\n",
       "       [1., 0., 0., 0., 0., 0., 0., 0., 0., 1.],\n",
       "       [1., 0., 0., 0., 0., 0., 0., 0., 0., 1.],\n",
       "       [1., 0., 0., 0., 0., 0., 0., 0., 0., 1.],\n",
       "       [1., 0., 0., 0., 0., 0., 0., 0., 0., 1.],\n",
       "       [1., 1., 1., 1., 1., 1., 1., 1., 1., 1.]])"
      ]
     },
     "execution_count": 45,
     "metadata": {},
     "output_type": "execute_result"
    }
   ],
   "source": [
    "m5=np.ones((10,10))\n",
    "m5[1:-1,1:-1]=0\n",
    "m5"
   ]
  },
  {
   "cell_type": "code",
   "execution_count": 46,
   "id": "e6bf5dd6-2138-463c-8bb7-5e5664750594",
   "metadata": {},
   "outputs": [],
   "source": [
    "import random"
   ]
  },
  {
   "cell_type": "code",
   "execution_count": 62,
   "id": "7cb857fc-b629-41cc-a0fb-cf08e8910a1d",
   "metadata": {},
   "outputs": [
    {
     "data": {
      "text/plain": [
       "array([[ 0.,  0.,  0.,  0.,  0.,  0.,  0.,  0.],\n",
       "       [ 0., 21., 18., 22., 90., 85., 94.,  0.],\n",
       "       [ 0., 89.,  6., 20., 94., 94., 37.,  0.],\n",
       "       [ 0., 88., 64., 94., 94., 14., 10.,  0.],\n",
       "       [ 0., 88., 86.,  2., 74., 50., 13.,  0.],\n",
       "       [ 0., 53., 47., 30., 60., 20., 66.,  0.],\n",
       "       [ 0., 71., 35., 17., 11., 35.,  9.,  0.],\n",
       "       [ 0.,  0.,  0.,  0.,  0.,  0.,  0.,  0.]])"
      ]
     },
     "execution_count": 62,
     "metadata": {},
     "output_type": "execute_result"
    }
   ],
   "source": [
    "m6=np.zeros((8,8))\n",
    "x = np.random.randint(1,99,(6,6))\n",
    "m6[1:-1,1:-1] = x\n",
    "\n",
    "m6"
   ]
  },
  {
   "cell_type": "code",
   "execution_count": 108,
   "id": "0413e407-36e1-46c0-b505-d8688831f8f0",
   "metadata": {},
   "outputs": [],
   "source": [
    "# Media, Mediana y Moda\n",
    "arr=np.random.rand(1000000)\n",
    "mean=np.mean(arr)\n",
    "std_dev=np.std(arr)"
   ]
  },
  {
   "cell_type": "code",
   "execution_count": 69,
   "id": "423f9570-23da-4852-b029-e732d28e6a20",
   "metadata": {},
   "outputs": [
    {
     "data": {
      "text/plain": [
       "np.float64(0.4998794606296067)"
      ]
     },
     "execution_count": 69,
     "metadata": {},
     "output_type": "execute_result"
    }
   ],
   "source": [
    "mean"
   ]
  },
  {
   "cell_type": "code",
   "execution_count": 71,
   "id": "129e7a43-f4fd-4248-9888-42ff69e0123d",
   "metadata": {},
   "outputs": [
    {
     "data": {
      "text/plain": [
       "np.float64(0.28856321820295877)"
      ]
     },
     "execution_count": 71,
     "metadata": {},
     "output_type": "execute_result"
    }
   ],
   "source": [
    "std_dev"
   ]
  },
  {
   "cell_type": "code",
   "execution_count": 73,
   "id": "2133d3c2-108d-46d8-a8b8-b92c9fcaefac",
   "metadata": {},
   "outputs": [
    {
     "data": {
      "text/plain": [
       "array([0.85199366, 0.7461205 , 0.3654699 , ..., 0.05119557, 0.71021644,\n",
       "       0.98150267])"
      ]
     },
     "execution_count": 73,
     "metadata": {},
     "output_type": "execute_result"
    }
   ],
   "source": [
    "arr"
   ]
  },
  {
   "cell_type": "code",
   "execution_count": 83,
   "id": "7c5b40fd-c4b5-4f36-b7eb-12382923a00e",
   "metadata": {},
   "outputs": [],
   "source": [
    "arr=np.arange(10)\n",
    "np.save('archivo1',arr)"
   ]
  },
  {
   "cell_type": "code",
   "execution_count": 80,
   "id": "73bb1a03-63cd-4506-9441-930b2cfedf07",
   "metadata": {},
   "outputs": [],
   "source": [
    "m7=np.load('archivo.npy')"
   ]
  },
  {
   "cell_type": "code",
   "execution_count": 84,
   "id": "2d614f33-3799-46ba-aa09-ab635d15f8f4",
   "metadata": {},
   "outputs": [
    {
     "data": {
      "text/plain": [
       "np.float64(0.22237994963817076)"
      ]
     },
     "execution_count": 84,
     "metadata": {},
     "output_type": "execute_result"
    }
   ],
   "source": [
    "m7[40000]"
   ]
  },
  {
   "cell_type": "code",
   "execution_count": 88,
   "id": "9f3bb8cd-2f6e-4ddb-9c05-7a15c46524c7",
   "metadata": {},
   "outputs": [
    {
     "data": {
      "text/plain": [
       "np.int64(9)"
      ]
     },
     "execution_count": 88,
     "metadata": {},
     "output_type": "execute_result"
    }
   ],
   "source": [
    "m8=np.load('archivo1.npy')\n",
    "m8[9]"
   ]
  },
  {
   "cell_type": "code",
   "execution_count": 118,
   "id": "471bd39d-44ed-416a-bfaa-57e6a8bf6a2c",
   "metadata": {},
   "outputs": [],
   "source": [
    "np.savetxt('archivo.csv',arr,delimiter=',')"
   ]
  },
  {
   "cell_type": "code",
   "execution_count": 120,
   "id": "658832fd-db4a-402c-8a33-9d506d6db2aa",
   "metadata": {
    "scrolled": true
   },
   "outputs": [
    {
     "data": {
      "text/plain": [
       "array([[5.0e+00, 8.0e+17],\n",
       "       [5.0e+00, 8.0e+17],\n",
       "       [5.0e+00, 8.0e+17],\n",
       "       ...,\n",
       "       [8.0e+00, 4.9e+18],\n",
       "       [3.0e+00, 2.1e+18],\n",
       "       [3.0e+00, 8.5e+18]])"
      ]
     },
     "execution_count": 120,
     "metadata": {},
     "output_type": "execute_result"
    }
   ],
   "source": [
    "m9=np.loadtxt('archivo.csv',delimiter=',')\n",
    "m9"
   ]
  },
  {
   "cell_type": "code",
   "execution_count": 121,
   "id": "e0f8a2fa-4a8c-4f48-8c84-a7bd391de526",
   "metadata": {},
   "outputs": [
    {
     "data": {
      "text/plain": [
       "array([5.e+00, 8.e+17])"
      ]
     },
     "execution_count": 121,
     "metadata": {},
     "output_type": "execute_result"
    }
   ],
   "source": [
    "m9[29]"
   ]
  },
  {
   "cell_type": "code",
   "execution_count": null,
   "id": "06eea8d3-8851-4721-bae3-ee7301bebca9",
   "metadata": {},
   "outputs": [],
   "source": []
  }
 ],
 "metadata": {
  "kernelspec": {
   "display_name": "Python 3 (ipykernel)",
   "language": "python",
   "name": "python3"
  },
  "language_info": {
   "codemirror_mode": {
    "name": "ipython",
    "version": 3
   },
   "file_extension": ".py",
   "mimetype": "text/x-python",
   "name": "python",
   "nbconvert_exporter": "python",
   "pygments_lexer": "ipython3",
   "version": "3.12.6"
  }
 },
 "nbformat": 4,
 "nbformat_minor": 5
}
