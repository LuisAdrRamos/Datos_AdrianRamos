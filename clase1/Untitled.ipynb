{
 "cells": [
  {
   "cell_type": "code",
   "execution_count": 27,
   "id": "8b9331a8-20d2-4ca0-ad55-39821ef0dae3",
   "metadata": {},
   "outputs": [
    {
     "name": "stdout",
     "output_type": "stream",
     "text": [
      "*  *  *  *  *  \n",
      "*  *  *  *  *  \n",
      "*  *  *  *  *  \n",
      "*  *  *  *  *  \n",
      "*  *  *  *  *  \n"
     ]
    }
   ],
   "source": [
    "lado=5\n",
    "\n",
    "for x in range (lado):\n",
    "    for y in range (lado):\n",
    "        print(\"*  \",end=\"\")\n",
    "    print()"
   ]
  },
  {
   "cell_type": "code",
   "execution_count": 34,
   "id": "f6ffb26e-b160-498d-b0e1-eefaec954b8e",
   "metadata": {},
   "outputs": [
    {
     "name": "stdout",
     "output_type": "stream",
     "text": [
      "\n",
      "*\n",
      "**\n",
      "***\n",
      "****\n"
     ]
    }
   ],
   "source": [
    "altura = 5\n",
    "simbolo = \"*\"\n",
    "for i in range (altura):\n",
    "    print(simbolo*i)"
   ]
  },
  {
   "cell_type": "code",
   "execution_count": 50,
   "id": "5fa54dd5-02d0-4c74-9bad-1fea5c51c129",
   "metadata": {},
   "outputs": [
    {
     "name": "stdout",
     "output_type": "stream",
     "text": [
      "Calculadora de IMC\n"
     ]
    },
    {
     "name": "stdin",
     "output_type": "stream",
     "text": [
      "Ingrese su nombre:  Adrian Ramos\n",
      "Ingrese su altura en metros:  1.65\n",
      "Ingrese su peso en kg:  61.5\n"
     ]
    },
    {
     "name": "stdout",
     "output_type": "stream",
     "text": [
      "El IMC de Adrian Ramos es 22.589531680440775\n"
     ]
    }
   ],
   "source": [
    "print(\"Calculadora de IMC\")\n",
    "cadena = str(input(\"Ingrese su nombre: \"))\n",
    "\n",
    "altura = float(input(\"Ingrese su altura en metros: \"))\n",
    "\n",
    "peso = float(input(\"Ingrese su peso en kg: \"))\n",
    "\n",
    "IMC = peso/(altura*altura)\n",
    "print(\"El IMC de\", cadena, \"es\", IMC)"
   ]
  },
  {
   "cell_type": "code",
   "execution_count": 81,
   "id": "8c44e9a7-e32e-4387-a50a-8e432df0db61",
   "metadata": {},
   "outputs": [
    {
     "name": "stdout",
     "output_type": "stream",
     "text": [
      "La frase contiene 2 letras O\n",
      "La palabra life se encuentra en la ubicacion 5\n",
      "¿La frase termina con la palabra Half? False\n",
      "¿La frase comienza con la palabra Half? True\n"
     ]
    },
    {
     "data": {
      "text/plain": [
       "'Half life 3 No confirmado 😢 🥳'"
      ]
     },
     "execution_count": 81,
     "metadata": {},
     "output_type": "execute_result"
    }
   ],
   "source": [
    "s=\"Half life 3 Confirmado 🥳\"\n",
    "\n",
    "print(\"La frase contiene\", s.count(\"o\"), \"letras O\")\n",
    "\n",
    "print(\"La palabra life se encuentra en la ubicacion\", s.find(\"life\"))\n",
    "\n",
    "print(\"¿La frase termina con la palabra Half?\", s.endswith(\"Half\"))\n",
    "\n",
    "print(\"¿La frase comienza con la palabra Half?\", s.startswith(\"Half\"))\n",
    "\n",
    "s[0]\n",
    "\n",
    "s.replace(\"Confirmado\", \"No confirmado 😢\")"
   ]
  }
 ],
 "metadata": {
  "kernelspec": {
   "display_name": "Python 3 (ipykernel)",
   "language": "python",
   "name": "python3"
  },
  "language_info": {
   "codemirror_mode": {
    "name": "ipython",
    "version": 3
   },
   "file_extension": ".py",
   "mimetype": "text/x-python",
   "name": "python",
   "nbconvert_exporter": "python",
   "pygments_lexer": "ipython3",
   "version": "3.12.6"
  }
 },
 "nbformat": 4,
 "nbformat_minor": 5
}
