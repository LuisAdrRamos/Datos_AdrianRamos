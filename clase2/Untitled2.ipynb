{
 "cells": [
  {
   "cell_type": "code",
   "execution_count": 68,
   "id": "3670a942-1f57-4997-930b-4f4561c25ace",
   "metadata": {},
   "outputs": [],
   "source": [
    "import numpy as np"
   ]
  },
  {
   "cell_type": "code",
   "execution_count": 69,
   "id": "21283b63-85b6-48d2-9dfe-f5934858b7e0",
   "metadata": {},
   "outputs": [],
   "source": [
    "import time"
   ]
  },
  {
   "cell_type": "code",
   "execution_count": 99,
   "id": "1726aa39-ea1a-4da1-918a-5009ec1c98ba",
   "metadata": {},
   "outputs": [
    {
     "name": "stdout",
     "output_type": "stream",
     "text": [
      "[[49 39 73 65 78 29 40 71 25 98]\n",
      " [81 69 57 65 19 60 45 38 94 37]\n",
      " [96 50 20 81 77 84 63 45 15 44]\n",
      " [24 69 10 73 19 61 25 28 33 26]\n",
      " [33 16 58 80 20 37 15 10 84 48]\n",
      " [34 67 68 83 58 92 72 48 50 91]\n",
      " [95 71 20 29 37 48 53 61 84 58]\n",
      " [19 74 90 33 49 79 80 39 93 14]\n",
      " [44 69 41 78 51 71 38 26 83 50]\n",
      " [26 39 27 16 20 76 83 72 18 58]]\n"
     ]
    }
   ],
   "source": [
    "# Ejercicio 1\n",
    "\n",
    "dim = (10,10)\n",
    "\n",
    "m1 = np.random.randint(10,99,(dim))\n",
    "# m1[1:-1,1:-1] = np.identity(8,8)\n",
    "print(m1)"
   ]
  },
  {
   "cell_type": "code",
   "execution_count": 90,
   "id": "07e8dc5b-e859-4ea8-9bb3-c3b147b1d772",
   "metadata": {},
   "outputs": [
    {
     "name": "stdout",
     "output_type": "stream",
     "text": [
      "[[79 39 62 56 25 34 56 76 66 30]\n",
      " [89 45 86 36 19 16 27 36 84 66]\n",
      " [20 84 94 62 20 32 81 83 14 54]\n",
      " [59 49 26 14 65 24 35 32 90 51]\n",
      " [20 11 46 73 71 93 19 39 28 91]\n",
      " [32 61 54 22 56 41 68 67 73 70]\n",
      " [34 47 68 72 51 50 90 15 59 31]\n",
      " [75 27 34 20 70 18 79 89 82 92]\n",
      " [82 65 80 39 26 47 39 64 73 77]\n",
      " [94 87 76 78 51 59 88 75 28 23]]\n"
     ]
    }
   ],
   "source": [
    "# Ejercicio 1.1\n",
    "\n",
    "m2 = np.random.randint(10,99,(dim))\n",
    "print(m2)"
   ]
  },
  {
   "cell_type": "code",
   "execution_count": 100,
   "id": "836b47af-76d9-497e-8775-62ef7fddeb58",
   "metadata": {},
   "outputs": [
    {
     "name": "stdout",
     "output_type": "stream",
     "text": [
      "[[33072 29558 34680 28835 27471 24864 34247 34121 30434 32380]\n",
      " [35381 30576 36802 24723 22696 21004 31706 33060 36371 32286]\n",
      " [32324 26593 32674 26472 28183 24514 32038 31189 36128 32538]\n",
      " [22976 18726 21696 13874 17040 13099 19118 19231 25983 22026]\n",
      " [24155 23887 25600 17714 17078 16241 22314 23808 23976 22625]\n",
      " [37712 36217 41500 31144 31121 27745 39714 37099 39016 37656]\n",
      " [36928 27980 35730 26115 23439 22229 31808 32973 35549 31879]\n",
      " [29929 30682 38650 26344 23671 23197 32950 31511 33938 35537]\n",
      " [33079 29212 34632 24260 24364 22657 29286 30419 34738 32788]\n",
      " [24991 22738 26884 20532 21346 17446 29768 25160 26657 24685]]\n",
      "0.0\n"
     ]
    }
   ],
   "source": [
    "# Ejercicio 2\n",
    "\n",
    "inicio = time.time()\n",
    "result = np.dot(m1,m2)\n",
    "\n",
    "tiempo1 = round(time.time()-inicio,5)\n",
    "\n",
    "print(result)\n",
    "print(tiempo1)"
   ]
  },
  {
   "cell_type": "code",
   "execution_count": 108,
   "id": "af45fef5-73aa-434d-b592-2863b5fa7c66",
   "metadata": {},
   "outputs": [],
   "source": [
    "# Ejercicio 2.1\n",
    "np.save(\"resultado1.txt\", tiempo1)"
   ]
  },
  {
   "cell_type": "code",
   "execution_count": 119,
   "id": "4ba2cd11-dca8-4863-a795-c9cfac1e903f",
   "metadata": {},
   "outputs": [
    {
     "name": "stdout",
     "output_type": "stream",
     "text": [
      "0.0\n"
     ]
    }
   ],
   "source": [
    "resultado1 = np.load(\"resultado1.txt\")\n",
    "print(resultado1)"
   ]
  },
  {
   "cell_type": "code",
   "execution_count": 78,
   "id": "81144751-fb09-455e-99c3-3dab25f57d90",
   "metadata": {},
   "outputs": [
    {
     "name": "stdout",
     "output_type": "stream",
     "text": [
      "[[8 7 4 5 1 0 0 7 8 6]\n",
      " [4 0 0 0 0 0 0 0 0 6]\n",
      " [2 0 0 0 0 0 0 0 0 1]\n",
      " [6 0 0 0 0 0 0 0 0 1]\n",
      " [5 0 0 0 0 0 0 0 0 5]\n",
      " [0 0 0 0 0 0 0 0 0 1]\n",
      " [6 0 0 0 0 0 0 0 0 1]\n",
      " [8 0 0 0 0 0 0 0 0 8]\n",
      " [1 0 0 0 0 0 0 0 0 6]\n",
      " [1 6 6 8 2 2 3 3 7 4]]\n"
     ]
    }
   ],
   "source": [
    "# Ejercicio 3\n",
    "\n",
    "m3 = np.random.randint(0,9,(dim))\n",
    "m3[1:-1,1:-1] = 0\n",
    "print(m3)"
   ]
  },
  {
   "cell_type": "code",
   "execution_count": 79,
   "id": "bdc5bddd-5517-43e8-8b83-858e9bf85f86",
   "metadata": {},
   "outputs": [
    {
     "name": "stdout",
     "output_type": "stream",
     "text": [
      "[[0. 0. 0. 0. 0. 0. 0. 0. 0. 0.]\n",
      " [0. 3. 0. 3. 8. 7. 1. 3. 4. 0.]\n",
      " [0. 2. 3. 7. 2. 8. 2. 3. 6. 0.]\n",
      " [0. 2. 5. 3. 4. 2. 3. 3. 1. 0.]\n",
      " [0. 1. 2. 2. 2. 7. 4. 2. 6. 0.]\n",
      " [0. 6. 5. 4. 5. 3. 3. 7. 7. 0.]\n",
      " [0. 2. 3. 6. 6. 1. 3. 5. 3. 0.]\n",
      " [0. 7. 4. 1. 0. 1. 7. 3. 1. 0.]\n",
      " [0. 5. 5. 2. 8. 4. 0. 2. 8. 0.]\n",
      " [0. 0. 0. 0. 0. 0. 0. 0. 0. 0.]]\n"
     ]
    }
   ],
   "source": [
    "# Ejercicio 4\n",
    "\n",
    "m4 = np.zeros(dim)\n",
    "m4[1:-1,1:-1] = np.random.randint(0,9,(8,8))\n",
    "print(m4)"
   ]
  },
  {
   "cell_type": "code",
   "execution_count": 149,
   "id": "98ade38f-1e68-46ee-aaf9-11ed9703541f",
   "metadata": {},
   "outputs": [
    {
     "name": "stdout",
     "output_type": "stream",
     "text": [
      "[[  0.   0.   0.   0.   0.   0.   0.   0.   0.   0.]\n",
      " [104.   0.   0.   0.   0.   0.   0.   0.   0. 117.]\n",
      " [108.   0.   0.   0.   0.   0.   0.   0.   0. 102.]\n",
      " [ 99.   0.   0.   0.   0.   0.   0.   0.   0.  75.]\n",
      " [ 76.   0.   0.   0.   0.   0.   0.   0.   0.  83.]\n",
      " [164.   0.   0.   0.   0.   0.   0.   0.   0. 174.]\n",
      " [141.   0.   0.   0.   0.   0.   0.   0.   0. 113.]\n",
      " [109.   0.   0.   0.   0.   0.   0.   0.   0.  85.]\n",
      " [106.   0.   0.   0.   0.   0.   0.   0.   0. 145.]\n",
      " [  0.   0.   0.   0.   0.   0.   0.   0.   0.   0.]]\n",
      "0.00043\n"
     ]
    }
   ],
   "source": [
    "# Ejercicio 5\n",
    "\n",
    "inicio = time.time()\n",
    "m5= np.dot(m4,m3)\n",
    "tiempo2 = round(time.time()-inicio,5)\n",
    "\n",
    "print(m5)\n",
    "print(tiempo2)"
   ]
  },
  {
   "cell_type": "code",
   "execution_count": 150,
   "id": "2ec03f33-45f8-4e18-a709-47e70abc3902",
   "metadata": {},
   "outputs": [],
   "source": [
    "# Ejercicio 5.1\n",
    "np.save(\"resultado2.txt\", tiempo2)"
   ]
  },
  {
   "cell_type": "code",
   "execution_count": 152,
   "id": "bad0e26d-6f19-4ae9-ae8f-c11822ea2062",
   "metadata": {},
   "outputs": [
    {
     "name": "stdout",
     "output_type": "stream",
     "text": [
      "0.00043\n"
     ]
    }
   ],
   "source": [
    "xd = np.load(\"resultado2.txt\")\n",
    "print(xd)"
   ]
  },
  {
   "cell_type": "code",
   "execution_count": 213,
   "id": "2aa50407-1a86-41d4-96af-89297e5254ed",
   "metadata": {},
   "outputs": [
    {
     "name": "stdout",
     "output_type": "stream",
     "text": [
      "82916\n",
      "El numero de veces que se repite la palabra American es : 0\n",
      "0.08205\n"
     ]
    }
   ],
   "source": [
    "# Ejercicio 6\n",
    "my_name = \"Adrian Ramos\"\n",
    "\n",
    "start = time.time()\n",
    "\n",
    "texto = open(\"libro1.txt\", \"r\")\n",
    "libro = texto.read()\n",
    "texto.close()\n",
    "\n",
    "total_palabras = 0\n",
    "frec_palabra = 0\n",
    "\n",
    "word = \" \"\n",
    "for i in range(0, len(libro)):\n",
    "    if libro[i] == \" \":\n",
    "        total_palabras = total_palabras + 1\n",
    "    if libro[i] == \"American\":\n",
    "        frec_palabra = frec_palabra + 1\n",
    "    \n",
    "print(total_palabras+1)\n",
    "print(\"El numero de veces que se repite la palabra American es :\",frec_palabra)\n",
    "\n",
    "tiempo_Conteo = (round(time.time()-start,5))\n",
    "print(tiempo_Conteo)"
   ]
  },
  {
   "cell_type": "code",
   "execution_count": 218,
   "id": "6c432306-cc11-4771-90ad-82e6d609a20e",
   "metadata": {},
   "outputs": [
    {
     "name": "stdout",
     "output_type": "stream",
     "text": [
      "[['Nombre: ', 'Adrian Ramos'], ['Total Palabras: ', 82915], ['Frecuencia de la palabra American: ', 0], ['Tiempor total: ', 0.08205]]\n"
     ]
    }
   ],
   "source": [
    "# Ejercicio 6.1\n",
    "arr = [[\"Nombre: \", my_name],[\"Total Palabras: \",total_palabras],[\"Frecuencia de la palabra American: \",frec_palabra],[\"Tiempor total: \",tiempo_Conteo]]\n",
    "np.save(\"resultado3.txt\", arr)\n",
    "\n",
    "print(arr)"
   ]
  }
 ],
 "metadata": {
  "kernelspec": {
   "display_name": "Python 3 (ipykernel)",
   "language": "python",
   "name": "python3"
  },
  "language_info": {
   "codemirror_mode": {
    "name": "ipython",
    "version": 3
   },
   "file_extension": ".py",
   "mimetype": "text/x-python",
   "name": "python",
   "nbconvert_exporter": "python",
   "pygments_lexer": "ipython3",
   "version": "3.12.6"
  }
 },
 "nbformat": 4,
 "nbformat_minor": 5
}
