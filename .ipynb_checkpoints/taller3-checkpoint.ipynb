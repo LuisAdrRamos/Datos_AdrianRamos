{
 "cells": [
  {
   "cell_type": "code",
   "execution_count": 5,
   "id": "2ca08cea-fabd-49a2-9e01-0847be735900",
   "metadata": {},
   "outputs": [
    {
     "name": "stdout",
     "output_type": "stream",
     "text": [
      "Requirement already satisfied: numpy in c:\\users\\analisis de datos\\appdata\\local\\programs\\python\\python312\\lib\\site-packages (2.1.2)\n",
      "Note: you may need to restart the kernel to use updated packages.\n"
     ]
    }
   ],
   "source": [
    "pip install numpy"
   ]
  },
  {
   "cell_type": "code",
   "execution_count": 2,
   "id": "37650b40-f5af-4cb7-bf6c-72330202ac62",
   "metadata": {},
   "outputs": [],
   "source": [
    "import numpy as np"
   ]
  },
  {
   "cell_type": "code",
   "execution_count": 24,
   "id": "5a63d0a5-3e93-49cd-a994-5efd87ba43ff",
   "metadata": {},
   "outputs": [
    {
     "data": {
      "text/plain": [
       "array([1, 2, 3])"
      ]
     },
     "execution_count": 24,
     "metadata": {},
     "output_type": "execute_result"
    }
   ],
   "source": [
    "a = np.array([1,2,3])\n",
    "a"
   ]
  },
  {
   "cell_type": "code",
   "execution_count": 12,
   "id": "c18071c2-3567-46fb-8461-1248f51a7c1f",
   "metadata": {},
   "outputs": [
    {
     "data": {
      "text/plain": [
       "array([[1, 2, 3],\n",
       "       [4, 5, 6]])"
      ]
     },
     "execution_count": 12,
     "metadata": {},
     "output_type": "execute_result"
    }
   ],
   "source": [
    "b = np.array([(1,2,3),(4,5,6)])\n",
    "b"
   ]
  },
  {
   "cell_type": "code",
   "execution_count": 21,
   "id": "01eeb628-6b39-4f1c-b09c-114b3c2afedb",
   "metadata": {},
   "outputs": [
    {
     "data": {
      "text/plain": [
       "array([[1, 2, 3],\n",
       "       [4, 5, 6],\n",
       "       [7, 8, 9]])"
      ]
     },
     "execution_count": 21,
     "metadata": {},
     "output_type": "execute_result"
    }
   ],
   "source": [
    "c = np.array([(1,2,3),(4,5,6),(7,8,9)])\n",
    "c\n"
   ]
  },
  {
   "cell_type": "code",
   "execution_count": 23,
   "id": "bd036d71-b759-4360-bca9-43c096f94ac9",
   "metadata": {},
   "outputs": [
    {
     "data": {
      "text/plain": [
       "(array([1, 2, 3]),\n",
       " array([[1, 2, 3],\n",
       "        [4, 5, 6]]),\n",
       " array([[1, 2, 3],\n",
       "        [4, 5, 6],\n",
       "        [7, 8, 9]]))"
      ]
     },
     "execution_count": 23,
     "metadata": {},
     "output_type": "execute_result"
    }
   ],
   "source": [
    "matriz = (a,b,c)\n",
    "matriz"
   ]
  },
  {
   "cell_type": "code",
   "execution_count": 31,
   "id": "e8a9e1d5-fbc7-40a4-a6ae-9411d9306ae0",
   "metadata": {},
   "outputs": [
    {
     "data": {
      "text/plain": [
       "[[[1, 1, 1], [2, 2, 2], [3, 3, 3]],\n",
       " [[4, 4, 4], [5, 5, 5], [6, 6, 6]],\n",
       " [[7, 7, 7], [8, 8, 8], [9, 9, 9]]]"
      ]
     },
     "execution_count": 31,
     "metadata": {},
     "output_type": "execute_result"
    }
   ],
   "source": [
    "lo = [ [ [1,1,1],[2,2,2],[3,3,3] ] , [ [4,4,4],[5,5,5],[6,6,6] ] , [ [7,7,7],[8,8,8],[9,9,9] ]]\n",
    "lo"
   ]
  },
  {
   "cell_type": "code",
   "execution_count": 37,
   "id": "bc2deda3-fa63-4d5e-915d-8b89cc5f7595",
   "metadata": {},
   "outputs": [
    {
     "data": {
      "text/plain": [
       "<memory at 0x0000027CFDEA4280>"
      ]
     },
     "execution_count": 37,
     "metadata": {},
     "output_type": "execute_result"
    }
   ],
   "source": [
    "x = np.array([1,2,3,4])\n",
    "x.data"
   ]
  },
  {
   "cell_type": "code",
   "execution_count": 45,
   "id": "65a07050-f678-41a8-aa2b-96dbcc643cf3",
   "metadata": {},
   "outputs": [
    {
     "name": "stdout",
     "output_type": "stream",
     "text": [
      "48000\n",
      "8000\n"
     ]
    }
   ],
   "source": [
    "import sys\n",
    "S = range(1000)\n",
    "print(sys.getsizeof(S)*len(S))\n",
    "\n",
    "D = np.arange(1000)\n",
    "print(D.size*D.itemsize)"
   ]
  },
  {
   "cell_type": "code",
   "execution_count": 31,
   "id": "5d96654c-a9f5-4b4b-ba99-34ff0e5a3bc9",
   "metadata": {},
   "outputs": [
    {
     "name": "stdout",
     "output_type": "stream",
     "text": [
      "22309.694051742554\n",
      "21589.2493724823\n"
     ]
    }
   ],
   "source": [
    "import time\n",
    "size = 100000000\n",
    "\n",
    "L1 = range(size)\n",
    "L2 = range(size)\n",
    "\n",
    "A1 = np.arange(size)\n",
    "A2 = np.arange(size)\n",
    "\n",
    "start = time.time()\n",
    "result = [(x,y) for x,y in zip(L1,L2)]\n",
    "print((time.time()-start)*1000)\n",
    "\n",
    "start = time.time()\n",
    "result = A1+A2\n",
    "print((time.time()-start)*1000)"
   ]
  },
  {
   "cell_type": "code",
   "execution_count": 39,
   "id": "a2b89836-bd04-4bca-817b-53b8d0909b4e",
   "metadata": {},
   "outputs": [
    {
     "name": "stdin",
     "output_type": "stream",
     "text": [
      "Ingrese segundos:  21589\n"
     ]
    },
    {
     "name": "stdout",
     "output_type": "stream",
     "text": [
      "el programa se demoro 359.82 minutos\n",
      "el programa se demoro 6.0 horas\n"
     ]
    }
   ],
   "source": [
    "seg = int(input(\"Ingrese segundos: \"))\n",
    "min= seg/60\n",
    "print(f\"el programa se demoro {round(min,2)} minutos\")\n",
    "\n",
    "h= min/60\n",
    "print(f\"el programa se demoro {round(h,2)} horas\")"
   ]
  },
  {
   "cell_type": "code",
   "execution_count": 35,
   "id": "21e98f5a-0be2-47f2-b7c5-d0398295076a",
   "metadata": {},
   "outputs": [
    {
     "data": {
      "text/plain": [
       "0.002"
      ]
     },
     "execution_count": 35,
     "metadata": {},
     "output_type": "execute_result"
    }
   ],
   "source": [
    "list1 = [i for i in range(10000)]\n",
    "list2 = [i for i in range(10000)]\n",
    "\n",
    "inicio = time.time()\n",
    "dot = 0\n",
    "for i,j in zip (list1,list2):\n",
    "    dot+=i*j\n",
    "\n",
    "round(time.time()-inicio,5)"
   ]
  },
  {
   "cell_type": "code",
   "execution_count": 36,
   "id": "9e188bae-a0a5-443a-b959-260a5086103e",
   "metadata": {},
   "outputs": [
    {
     "data": {
      "text/plain": [
       "0.00197"
      ]
     },
     "execution_count": 36,
     "metadata": {},
     "output_type": "execute_result"
    }
   ],
   "source": [
    "arr1 = np.array([i for i in range(10000)])\n",
    "arr2 = np.array([i for i in range(10000)])\n",
    "\n",
    "inicio = time.time()\n",
    "arr = np.dot(arr1,arr2)\n",
    "\n",
    "round(time.time()-inicio,5)"
   ]
  },
  {
   "cell_type": "code",
   "execution_count": 37,
   "id": "ec30d11f-5026-47a7-8cfb-7d03df3177ab",
   "metadata": {},
   "outputs": [
    {
     "data": {
      "text/plain": [
       "0.001"
      ]
     },
     "execution_count": 37,
     "metadata": {},
     "output_type": "execute_result"
    }
   ],
   "source": [
    "arr1 = np.array([i for i in range(10000)])\n",
    "arr2 = np.array([i for i in range(10000)])\n",
    "\n",
    "inicio = time.time()\n",
    "arr = np.concatenate((arr1,arr2),axis=0)\n",
    "\n",
    "round(time.time()-inicio,5)"
   ]
  },
  {
   "cell_type": "code",
   "execution_count": 33,
   "id": "695227eb-4b99-4ed9-8e51-57767d0250dc",
   "metadata": {},
   "outputs": [],
   "source": [
    "# conclusion sin el numpy el uso de procesador subia a un 40% y en la memoria ram llego a subir a 98% de uso "
   ]
  },
  {
   "cell_type": "code",
   "execution_count": 34,
   "id": "194de762-276a-4275-af82-295f0faa82f8",
   "metadata": {},
   "outputs": [],
   "source": [
    "# en el caso de uso con numpy la memoria se mantuvo en el 40% y el procesador en 20%"
   ]
  },
  {
   "cell_type": "code",
   "execution_count": 41,
   "id": "bed9249c-bdba-4938-8bca-a47f9847e435",
   "metadata": {},
   "outputs": [
    {
     "data": {
      "text/plain": [
       "array([25, 12, 15, 53, 34, 23])"
      ]
     },
     "execution_count": 41,
     "metadata": {},
     "output_type": "execute_result"
    }
   ],
   "source": [
    "lista = [25,12,15,53,34,23]\n",
    "\n",
    "vector = np.array(lista)\n",
    "\n",
    "vector"
   ]
  },
  {
   "cell_type": "code",
   "execution_count": 70,
   "id": "4b1bf696-bdd0-44f0-b720-ad3ce21bd339",
   "metadata": {},
   "outputs": [
    {
     "name": "stdout",
     "output_type": "stream",
     "text": [
      "150\n"
     ]
    }
   ],
   "source": [
    "print(vector[2]*10)"
   ]
  },
  {
   "cell_type": "code",
   "execution_count": 83,
   "id": "2a0eb861-0744-454e-8099-c53039064c76",
   "metadata": {},
   "outputs": [
    {
     "data": {
      "text/plain": [
       "array([[1., 1., 1.],\n",
       "       [1., 1., 1.]])"
      ]
     },
     "execution_count": 83,
     "metadata": {},
     "output_type": "execute_result"
    }
   ],
   "source": [
    "dimensiones = (2,3)\n",
    "\n",
    "matriz_ceros = np.zeros(dimensiones)\n",
    "matriz_ceros\n",
    "\n",
    "matriz_unos = np.ones(dimensiones)\n",
    "matriz_unos"
   ]
  },
  {
   "cell_type": "code",
   "execution_count": 97,
   "id": "2b56f1fe-41ae-4275-8b78-a9158b766fce",
   "metadata": {},
   "outputs": [
    {
     "data": {
      "text/plain": [
       "array([[0.5, 0.5, 0.5, 0.5],\n",
       "       [0.5, 0.5, 0.5, 0.5],\n",
       "       [0.5, 0.5, 0.5, 0.5],\n",
       "       [0.5, 0.5, 0.5, 0.5]])"
      ]
     },
     "execution_count": 97,
     "metadata": {},
     "output_type": "execute_result"
    }
   ],
   "source": [
    "dimensions = (4,4)\n",
    "matriz4x4 = np.zeros(dimensions)\n",
    "sum = 0.5\n",
    "matriz4x4+sum"
   ]
  },
  {
   "cell_type": "code",
   "execution_count": 103,
   "id": "2cf4a150-728d-40f0-bde1-6f7ef9d13503",
   "metadata": {},
   "outputs": [],
   "source": [
    "import random"
   ]
  },
  {
   "cell_type": "code",
   "execution_count": null,
   "id": "a25bf64c-b559-40bb-87e1-6fe13932681a",
   "metadata": {},
   "outputs": [],
   "source": [
    "dim = (5,5)"
   ]
  },
  {
   "cell_type": "code",
   "execution_count": 113,
   "id": "63277308-febf-41e7-bc9b-f67b3eac8d12",
   "metadata": {},
   "outputs": [],
   "source": [
    "matriz_random = np.random.randint(1,99,dim)"
   ]
  },
  {
   "cell_type": "code",
   "execution_count": 114,
   "id": "b073e2db-eb52-4f8c-9f9b-1e7368aabe4c",
   "metadata": {},
   "outputs": [
    {
     "name": "stdout",
     "output_type": "stream",
     "text": [
      "[[46 90 48 96 43]\n",
      " [19 73 34 77 88]\n",
      " [50 97 57  1 25]\n",
      " [46 18 87 60 75]\n",
      " [15 85 71 52 79]]\n"
     ]
    }
   ],
   "source": [
    "print(matriz_random)"
   ]
  },
  {
   "cell_type": "code",
   "execution_count": 116,
   "id": "f2c2a009-d293-4932-8ef1-fa850d3b7aea",
   "metadata": {},
   "outputs": [
    {
     "data": {
      "text/plain": [
       "array([10, 11, 12, 13, 14, 15, 16, 17, 18, 19, 20, 21, 22, 23, 24, 25, 26,\n",
       "       27, 28, 29, 30, 31, 32, 33, 34, 35, 36, 37, 38, 39, 40, 41, 42, 43,\n",
       "       44, 45, 46, 47, 48, 49])"
      ]
     },
     "execution_count": 116,
     "metadata": {},
     "output_type": "execute_result"
    }
   ],
   "source": [
    "a = np.arange(10,50)\n",
    "a"
   ]
  },
  {
   "cell_type": "code",
   "execution_count": 119,
   "id": "b74dcd4d-59a8-41d8-8abc-7222f70f1e23",
   "metadata": {},
   "outputs": [
    {
     "data": {
      "text/plain": [
       "array([49, 48, 47, 46, 45, 44, 43, 42, 41, 40, 39, 38, 37, 36, 35, 34, 33,\n",
       "       32, 31, 30, 29, 28, 27, 26, 25, 24, 23, 22, 21, 20, 19, 18, 17, 16,\n",
       "       15, 14, 13, 12, 11, 10])"
      ]
     },
     "execution_count": 119,
     "metadata": {},
     "output_type": "execute_result"
    }
   ],
   "source": [
    "a[::-1]"
   ]
  },
  {
   "cell_type": "code",
   "execution_count": 123,
   "id": "c11eb2e4-0f4a-490c-8a69-307e413b129a",
   "metadata": {},
   "outputs": [
    {
     "data": {
      "text/plain": [
       "array([[0, 1, 2],\n",
       "       [3, 4, 5],\n",
       "       [6, 7, 8]])"
      ]
     },
     "execution_count": 123,
     "metadata": {},
     "output_type": "execute_result"
    }
   ],
   "source": [
    "matriz3x3 = np.arange(0,9).reshape(3,3)\n",
    "matriz3x3"
   ]
  },
  {
   "cell_type": "code",
   "execution_count": 126,
   "id": "0315a121-6540-4e38-b142-17fff857732d",
   "metadata": {},
   "outputs": [
    {
     "data": {
      "text/plain": [
       "array([[1., 0., 0., 0., 0., 0.],\n",
       "       [0., 1., 0., 0., 0., 0.],\n",
       "       [0., 0., 1., 0., 0., 0.],\n",
       "       [0., 0., 0., 1., 0., 0.],\n",
       "       [0., 0., 0., 0., 1., 0.],\n",
       "       [0., 0., 0., 0., 0., 1.]])"
      ]
     },
     "execution_count": 126,
     "metadata": {},
     "output_type": "execute_result"
    }
   ],
   "source": [
    "matriz6x6 = np.identity(6).reshape(6,6)\n",
    "matriz6x6"
   ]
  },
  {
   "cell_type": "code",
   "execution_count": 129,
   "id": "77690a99-8b12-48f9-bf25-6361a5c31963",
   "metadata": {},
   "outputs": [
    {
     "data": {
      "text/plain": [
       "array([[[0.51698226, 0.36685159, 0.14542453],\n",
       "        [0.26437273, 0.93307967, 0.48919155],\n",
       "        [0.85760876, 0.73022983, 0.48139977]],\n",
       "\n",
       "       [[0.37412896, 0.12344053, 0.27439226],\n",
       "        [0.35835351, 0.59712807, 0.20580233],\n",
       "        [0.53351152, 0.69796214, 0.5299703 ]],\n",
       "\n",
       "       [[0.38176826, 0.17278082, 0.41750941],\n",
       "        [0.96765529, 0.62064072, 0.87865471],\n",
       "        [0.78656489, 0.49633503, 0.43988755]]])"
      ]
     },
     "execution_count": 129,
     "metadata": {},
     "output_type": "execute_result"
    }
   ],
   "source": [
    "m_random = np.random.random((3,3,3))\n",
    "m_random"
   ]
  },
  {
   "cell_type": "code",
   "execution_count": 133,
   "id": "1494efc1-8b70-4d8a-bd0c-9303581bc671",
   "metadata": {},
   "outputs": [
    {
     "name": "stdout",
     "output_type": "stream",
     "text": [
      "21\n",
      "0.9676552863930966\n",
      "[[[0.51698226 0.36685159 0.14542453]\n",
      "  [0.26437273 0.93307967 0.48919155]\n",
      "  [0.85760876 0.73022983 0.48139977]]\n",
      "\n",
      " [[0.37412896 0.12344053 0.27439226]\n",
      "  [0.35835351 0.59712807 0.20580233]\n",
      "  [0.53351152 0.69796214 0.5299703 ]]\n",
      "\n",
      " [[0.38176826 0.17278082 0.41750941]\n",
      "  [0.96765529 0.62064072 0.87865471]\n",
      "  [0.78656489 0.49633503 0.43988755]]]\n",
      "(np.int64(2), np.int64(1), np.int64(0))\n"
     ]
    },
    {
     "data": {
      "text/plain": [
       "np.float64(0.9676552863930966)"
      ]
     },
     "execution_count": 133,
     "metadata": {},
     "output_type": "execute_result"
    }
   ],
   "source": [
    "print(m_random.argmax())\n",
    "print(m_random.ravel()[m_random.argmax()])\n",
    "\n",
    "print(m_random)\n",
    "\n",
    "print(np.unravel_index(m_random.argmax(), m_random.shape))\n",
    "m_random[np.unravel_index(m_random.argmax(), m_random.shape)]"
   ]
  },
  {
   "cell_type": "code",
   "execution_count": 134,
   "id": "fde5b83e-32b3-4897-919f-77ccab2b3406",
   "metadata": {},
   "outputs": [
    {
     "data": {
      "text/plain": [
       "array([[1., 1., 1., 1., 1., 1., 1., 1., 1., 1.],\n",
       "       [1., 0., 0., 0., 0., 0., 0., 0., 0., 1.],\n",
       "       [1., 0., 0., 0., 0., 0., 0., 0., 0., 1.],\n",
       "       [1., 0., 0., 0., 0., 0., 0., 0., 0., 1.],\n",
       "       [1., 0., 0., 0., 0., 0., 0., 0., 0., 1.],\n",
       "       [1., 0., 0., 0., 0., 0., 0., 0., 0., 1.],\n",
       "       [1., 0., 0., 0., 0., 0., 0., 0., 0., 1.],\n",
       "       [1., 0., 0., 0., 0., 0., 0., 0., 0., 1.],\n",
       "       [1., 0., 0., 0., 0., 0., 0., 0., 0., 1.],\n",
       "       [1., 1., 1., 1., 1., 1., 1., 1., 1., 1.]])"
      ]
     },
     "execution_count": 134,
     "metadata": {},
     "output_type": "execute_result"
    }
   ],
   "source": [
    "z = np.ones((10,10))\n",
    "z[1:-1,1:-1] = 0\n",
    "z"
   ]
  },
  {
   "cell_type": "code",
   "execution_count": 136,
   "id": "9fc27573-3bb0-4bcd-981a-b0ac861c83fc",
   "metadata": {},
   "outputs": [
    {
     "data": {
      "text/plain": [
       "array([[0, 1, 2, 3, 4],\n",
       "       [0, 1, 2, 3, 4],\n",
       "       [0, 1, 2, 3, 4],\n",
       "       [0, 1, 2, 3, 4],\n",
       "       [0, 1, 2, 3, 4]])"
      ]
     },
     "execution_count": 136,
     "metadata": {},
     "output_type": "execute_result"
    }
   ],
   "source": [
    "matriz5x5 = np.tile(np.arange(0,5), 5).reshape(5,5)\n",
    "matriz5x5"
   ]
  },
  {
   "cell_type": "code",
   "execution_count": 140,
   "id": "d0d5a99e-5ea1-429e-a023-4ff6ccad5dfc",
   "metadata": {},
   "outputs": [
    {
     "ename": "TypeError",
     "evalue": "only integer scalar arrays can be converted to a scalar index",
     "output_type": "error",
     "traceback": [
      "\u001b[1;31m---------------------------------------------------------------------------\u001b[0m",
      "\u001b[1;31mTypeError\u001b[0m                                 Traceback (most recent call last)",
      "Cell \u001b[1;32mIn[140], line 4\u001b[0m\n\u001b[0;32m      1\u001b[0m a_r \u001b[38;5;241m=\u001b[39m np\u001b[38;5;241m.\u001b[39mrandom\u001b[38;5;241m.\u001b[39mrandom((\u001b[38;5;241m3\u001b[39m,\u001b[38;5;241m3\u001b[39m))\n\u001b[0;32m      2\u001b[0m b_r \u001b[38;5;241m=\u001b[39m np\u001b[38;5;241m.\u001b[39mrandom\u001b[38;5;241m.\u001b[39mrandom((\u001b[38;5;241m3\u001b[39m,\u001b[38;5;241m3\u001b[39m))\n\u001b[1;32m----> 4\u001b[0m \u001b[38;5;28;01mif\u001b[39;00m \u001b[43ma_r\u001b[49m\u001b[38;5;241;43m.\u001b[39;49m\u001b[43many\u001b[49m\u001b[43m(\u001b[49m\u001b[43mb_r\u001b[49m\u001b[43m)\u001b[49m : \n\u001b[0;32m      5\u001b[0m     \u001b[38;5;28mprint\u001b[39m(true)\n\u001b[0;32m      6\u001b[0m \u001b[38;5;28;01melse\u001b[39;00m:\n",
      "File \u001b[1;32m~\\AppData\\Local\\Programs\\Python\\Python312\\Lib\\site-packages\\numpy\\_core\\_methods.py:65\u001b[0m, in \u001b[0;36m_any\u001b[1;34m(a, axis, dtype, out, keepdims, where)\u001b[0m\n\u001b[0;32m     63\u001b[0m \u001b[38;5;66;03m# Parsing keyword arguments is currently fairly slow, so avoid it for now\u001b[39;00m\n\u001b[0;32m     64\u001b[0m \u001b[38;5;28;01mif\u001b[39;00m where \u001b[38;5;129;01mis\u001b[39;00m \u001b[38;5;28;01mTrue\u001b[39;00m:\n\u001b[1;32m---> 65\u001b[0m     \u001b[38;5;28;01mreturn\u001b[39;00m \u001b[43mumr_any\u001b[49m\u001b[43m(\u001b[49m\u001b[43ma\u001b[49m\u001b[43m,\u001b[49m\u001b[43m \u001b[49m\u001b[43maxis\u001b[49m\u001b[43m,\u001b[49m\u001b[43m \u001b[49m\u001b[43mdtype\u001b[49m\u001b[43m,\u001b[49m\u001b[43m \u001b[49m\u001b[43mout\u001b[49m\u001b[43m,\u001b[49m\u001b[43m \u001b[49m\u001b[43mkeepdims\u001b[49m\u001b[43m)\u001b[49m\n\u001b[0;32m     66\u001b[0m \u001b[38;5;28;01mreturn\u001b[39;00m umr_any(a, axis, dtype, out, keepdims, where\u001b[38;5;241m=\u001b[39mwhere)\n",
      "\u001b[1;31mTypeError\u001b[0m: only integer scalar arrays can be converted to a scalar index"
     ]
    }
   ],
   "source": [
    "a_r = np.random.random((3,3))\n",
    "b_r = np.random.random((3,3))\n",
    "\n",
    "if a_r.any(b_r): \n",
    "    print(true)\n",
    "else:\n",
    "    print(false)"
   ]
  }
 ],
 "metadata": {
  "kernelspec": {
   "display_name": "Python 3 (ipykernel)",
   "language": "python",
   "name": "python3"
  },
  "language_info": {
   "codemirror_mode": {
    "name": "ipython",
    "version": 3
   },
   "file_extension": ".py",
   "mimetype": "text/x-python",
   "name": "python",
   "nbconvert_exporter": "python",
   "pygments_lexer": "ipython3",
   "version": "3.12.6"
  }
 },
 "nbformat": 4,
 "nbformat_minor": 5
}
